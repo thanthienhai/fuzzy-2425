{
  "cells": [
    {
      "cell_type": "code",
      "execution_count": null,
      "metadata": {
        "colab": {
          "base_uri": "https://localhost:8080/"
        },
        "id": "3UKWbMFjZ5iY",
        "outputId": "af33b79d-e3f2-46a6-96ce-03b7e2e544a2"
      },
      "outputs": [
        {
          "name": "stdout",
          "output_type": "stream",
          "text": [
            "Requirement already satisfied: h5py in /usr/local/lib/python3.11/dist-packages (3.13.0)\n",
            "Requirement already satisfied: numpy>=1.19.3 in /usr/local/lib/python3.11/dist-packages (from h5py) (2.0.2)\n"
          ]
        }
      ],
      "source": [
        "pip install h5py\n"
      ]
    },
    {
      "cell_type": "code",
      "execution_count": null,
      "metadata": {
        "colab": {
          "base_uri": "https://localhost:8080/",
          "height": 73
        },
        "id": "AiSnOocirliF",
        "outputId": "6f8014ee-44d9-4180-8b44-d1d1144ee395"
      },
      "outputs": [
        {
          "data": {
            "text/html": [
              "\n",
              "     <input type=\"file\" id=\"files-160240da-9f80-460b-841d-7dc01e0522b3\" name=\"files[]\" multiple disabled\n",
              "        style=\"border:none\" />\n",
              "     <output id=\"result-160240da-9f80-460b-841d-7dc01e0522b3\">\n",
              "      Upload widget is only available when the cell has been executed in the\n",
              "      current browser session. Please rerun this cell to enable.\n",
              "      </output>\n",
              "      <script>// Copyright 2017 Google LLC\n",
              "//\n",
              "// Licensed under the Apache License, Version 2.0 (the \"License\");\n",
              "// you may not use this file except in compliance with the License.\n",
              "// You may obtain a copy of the License at\n",
              "//\n",
              "//      http://www.apache.org/licenses/LICENSE-2.0\n",
              "//\n",
              "// Unless required by applicable law or agreed to in writing, software\n",
              "// distributed under the License is distributed on an \"AS IS\" BASIS,\n",
              "// WITHOUT WARRANTIES OR CONDITIONS OF ANY KIND, either express or implied.\n",
              "// See the License for the specific language governing permissions and\n",
              "// limitations under the License.\n",
              "\n",
              "/**\n",
              " * @fileoverview Helpers for google.colab Python module.\n",
              " */\n",
              "(function(scope) {\n",
              "function span(text, styleAttributes = {}) {\n",
              "  const element = document.createElement('span');\n",
              "  element.textContent = text;\n",
              "  for (const key of Object.keys(styleAttributes)) {\n",
              "    element.style[key] = styleAttributes[key];\n",
              "  }\n",
              "  return element;\n",
              "}\n",
              "\n",
              "// Max number of bytes which will be uploaded at a time.\n",
              "const MAX_PAYLOAD_SIZE = 100 * 1024;\n",
              "\n",
              "function _uploadFiles(inputId, outputId) {\n",
              "  const steps = uploadFilesStep(inputId, outputId);\n",
              "  const outputElement = document.getElementById(outputId);\n",
              "  // Cache steps on the outputElement to make it available for the next call\n",
              "  // to uploadFilesContinue from Python.\n",
              "  outputElement.steps = steps;\n",
              "\n",
              "  return _uploadFilesContinue(outputId);\n",
              "}\n",
              "\n",
              "// This is roughly an async generator (not supported in the browser yet),\n",
              "// where there are multiple asynchronous steps and the Python side is going\n",
              "// to poll for completion of each step.\n",
              "// This uses a Promise to block the python side on completion of each step,\n",
              "// then passes the result of the previous step as the input to the next step.\n",
              "function _uploadFilesContinue(outputId) {\n",
              "  const outputElement = document.getElementById(outputId);\n",
              "  const steps = outputElement.steps;\n",
              "\n",
              "  const next = steps.next(outputElement.lastPromiseValue);\n",
              "  return Promise.resolve(next.value.promise).then((value) => {\n",
              "    // Cache the last promise value to make it available to the next\n",
              "    // step of the generator.\n",
              "    outputElement.lastPromiseValue = value;\n",
              "    return next.value.response;\n",
              "  });\n",
              "}\n",
              "\n",
              "/**\n",
              " * Generator function which is called between each async step of the upload\n",
              " * process.\n",
              " * @param {string} inputId Element ID of the input file picker element.\n",
              " * @param {string} outputId Element ID of the output display.\n",
              " * @return {!Iterable<!Object>} Iterable of next steps.\n",
              " */\n",
              "function* uploadFilesStep(inputId, outputId) {\n",
              "  const inputElement = document.getElementById(inputId);\n",
              "  inputElement.disabled = false;\n",
              "\n",
              "  const outputElement = document.getElementById(outputId);\n",
              "  outputElement.innerHTML = '';\n",
              "\n",
              "  const pickedPromise = new Promise((resolve) => {\n",
              "    inputElement.addEventListener('change', (e) => {\n",
              "      resolve(e.target.files);\n",
              "    });\n",
              "  });\n",
              "\n",
              "  const cancel = document.createElement('button');\n",
              "  inputElement.parentElement.appendChild(cancel);\n",
              "  cancel.textContent = 'Cancel upload';\n",
              "  const cancelPromise = new Promise((resolve) => {\n",
              "    cancel.onclick = () => {\n",
              "      resolve(null);\n",
              "    };\n",
              "  });\n",
              "\n",
              "  // Wait for the user to pick the files.\n",
              "  const files = yield {\n",
              "    promise: Promise.race([pickedPromise, cancelPromise]),\n",
              "    response: {\n",
              "      action: 'starting',\n",
              "    }\n",
              "  };\n",
              "\n",
              "  cancel.remove();\n",
              "\n",
              "  // Disable the input element since further picks are not allowed.\n",
              "  inputElement.disabled = true;\n",
              "\n",
              "  if (!files) {\n",
              "    return {\n",
              "      response: {\n",
              "        action: 'complete',\n",
              "      }\n",
              "    };\n",
              "  }\n",
              "\n",
              "  for (const file of files) {\n",
              "    const li = document.createElement('li');\n",
              "    li.append(span(file.name, {fontWeight: 'bold'}));\n",
              "    li.append(span(\n",
              "        `(${file.type || 'n/a'}) - ${file.size} bytes, ` +\n",
              "        `last modified: ${\n",
              "            file.lastModifiedDate ? file.lastModifiedDate.toLocaleDateString() :\n",
              "                                    'n/a'} - `));\n",
              "    const percent = span('0% done');\n",
              "    li.appendChild(percent);\n",
              "\n",
              "    outputElement.appendChild(li);\n",
              "\n",
              "    const fileDataPromise = new Promise((resolve) => {\n",
              "      const reader = new FileReader();\n",
              "      reader.onload = (e) => {\n",
              "        resolve(e.target.result);\n",
              "      };\n",
              "      reader.readAsArrayBuffer(file);\n",
              "    });\n",
              "    // Wait for the data to be ready.\n",
              "    let fileData = yield {\n",
              "      promise: fileDataPromise,\n",
              "      response: {\n",
              "        action: 'continue',\n",
              "      }\n",
              "    };\n",
              "\n",
              "    // Use a chunked sending to avoid message size limits. See b/62115660.\n",
              "    let position = 0;\n",
              "    do {\n",
              "      const length = Math.min(fileData.byteLength - position, MAX_PAYLOAD_SIZE);\n",
              "      const chunk = new Uint8Array(fileData, position, length);\n",
              "      position += length;\n",
              "\n",
              "      const base64 = btoa(String.fromCharCode.apply(null, chunk));\n",
              "      yield {\n",
              "        response: {\n",
              "          action: 'append',\n",
              "          file: file.name,\n",
              "          data: base64,\n",
              "        },\n",
              "      };\n",
              "\n",
              "      let percentDone = fileData.byteLength === 0 ?\n",
              "          100 :\n",
              "          Math.round((position / fileData.byteLength) * 100);\n",
              "      percent.textContent = `${percentDone}% done`;\n",
              "\n",
              "    } while (position < fileData.byteLength);\n",
              "  }\n",
              "\n",
              "  // All done.\n",
              "  yield {\n",
              "    response: {\n",
              "      action: 'complete',\n",
              "    }\n",
              "  };\n",
              "}\n",
              "\n",
              "scope.google = scope.google || {};\n",
              "scope.google.colab = scope.google.colab || {};\n",
              "scope.google.colab._files = {\n",
              "  _uploadFiles,\n",
              "  _uploadFilesContinue,\n",
              "};\n",
              "})(self);\n",
              "</script> "
            ],
            "text/plain": [
              "<IPython.core.display.HTML object>"
            ]
          },
          "metadata": {},
          "output_type": "display_data"
        },
        {
          "name": "stdout",
          "output_type": "stream",
          "text": [
            "Saving usps.h5 to usps.h5\n"
          ]
        }
      ],
      "source": [
        "from google.colab import files\n",
        "uploaded = files.upload()  # Upload file usps.h5 từ máy tính lên\n"
      ]
    },
    {
      "cell_type": "code",
      "execution_count": null,
      "metadata": {
        "id": "gf1gcIf0sBWH"
      },
      "outputs": [],
      "source": [
        "import h5py\n",
        "import numpy as np\n",
        "from sklearn.preprocessing import StandardScaler\n",
        "import torch\n",
        "\n",
        "# Đọc dữ liệu từ file HDF5\n",
        "with h5py.File('usps.h5', 'r') as f:\n",
        "    train_X = np.array(f['train']['data'])\n",
        "    train_y = np.array(f['train']['target'])\n",
        "    test_X = np.array(f['test']['data'])\n",
        "    test_y = np.array(f['test']['target'])\n",
        "\n",
        "# Gộp train và test\n",
        "X = np.concatenate([train_X, test_X], axis=0)\n",
        "y = np.concatenate([train_y, test_y], axis=0)\n",
        "\n",
        "# Tiền xử lý\n",
        "X = X.astype('float32') / 255.0\n",
        "X = X.reshape((X.shape[0], -1))  # (num_samples, 256)\n",
        "scaler = StandardScaler()\n",
        "X_scaled = scaler.fit_transform(X)\n",
        "\n",
        "# Chuyển thành Tensor\n",
        "X_tensor = torch.tensor(X_scaled, dtype=torch.float32)\n"
      ]
    },
    {
      "cell_type": "code",
      "execution_count": null,
      "metadata": {
        "id": "rw87AjVTsFwl"
      },
      "outputs": [],
      "source": [
        "import torch.nn as nn\n",
        "\n",
        "class AutoEncoder(nn.Module):\n",
        "    def __init__(self, input_dim=256, hidden_dim=10):\n",
        "        super(AutoEncoder, self).__init__()\n",
        "        self.encoder = nn.Sequential(\n",
        "            nn.Linear(input_dim, 128),\n",
        "            nn.ReLU(),\n",
        "            nn.Linear(128, hidden_dim)\n",
        "        )\n",
        "        self.decoder = nn.Sequential(\n",
        "            nn.Linear(hidden_dim, 128),\n",
        "            nn.ReLU(),\n",
        "            nn.Linear(128, input_dim)\n",
        "        )\n",
        "\n",
        "    def forward(self, x):\n",
        "        h = self.encoder(x)\n",
        "        out = self.decoder(h)\n",
        "        return out, h\n",
        "\n",
        "model = AutoEncoder()\n"
      ]
    },
    {
      "cell_type": "code",
      "execution_count": null,
      "metadata": {
        "colab": {
          "base_uri": "https://localhost:8080/"
        },
        "id": "yBGeMUhqsIRC",
        "outputId": "ed4ab965-ddf8-4377-a28d-b320cdf2dbc7"
      },
      "outputs": [
        {
          "name": "stdout",
          "output_type": "stream",
          "text": [
            "Epoch 10, Loss: 0.9173\n",
            "Epoch 20, Loss: 0.7598\n",
            "Epoch 30, Loss: 0.6504\n",
            "Epoch 40, Loss: 0.5722\n",
            "Epoch 50, Loss: 0.5213\n"
          ]
        }
      ],
      "source": [
        "import torch.optim as optim\n",
        "\n",
        "def train_autoencoder(model, data, epochs=50, lr=1e-3):\n",
        "    optimizer = optim.Adam(model.parameters(), lr=lr)\n",
        "    criterion = nn.MSELoss()\n",
        "    for epoch in range(epochs):\n",
        "        model.train()\n",
        "        optimizer.zero_grad()\n",
        "        output, _ = model(data)\n",
        "        loss = criterion(output, data)\n",
        "        loss.backward()\n",
        "        optimizer.step()\n",
        "        if (epoch+1) % 10 == 0:\n",
        "            print(f\"Epoch {epoch+1}, Loss: {loss.item():.4f}\")\n",
        "\n",
        "train_autoencoder(model, X_tensor)\n"
      ]
    },
    {
      "cell_type": "code",
      "execution_count": null,
      "metadata": {
        "id": "O-HQMF9usO4C"
      },
      "outputs": [],
      "source": [
        "from sklearn.cluster import KMeans\n",
        "from scipy.linalg import eigh\n",
        "import numpy as np\n",
        "\n",
        "def DEKM(model, X, k=10, Iter=10):\n",
        "    train_autoencoder(model, X)\n",
        "\n",
        "    for it in range(Iter):\n",
        "        model.eval()\n",
        "        with torch.no_grad():\n",
        "            _, H = model(X)\n",
        "            H_np = H.numpy()\n",
        "\n",
        "        kmeans = KMeans(n_clusters=k, n_init='auto', random_state=42)\n",
        "        labels = kmeans.fit_predict(H_np)\n",
        "\n",
        "        Sw = np.zeros((H_np.shape[1], H_np.shape[1]))\n",
        "        for i in range(k):\n",
        "            cluster_points = H_np[labels == i]\n",
        "            mu_i = np.mean(cluster_points, axis=0, keepdims=True)\n",
        "            for h in cluster_points:\n",
        "                diff = (h - mu_i).reshape(-1, 1)\n",
        "                Sw += diff @ diff.T\n",
        "\n",
        "        eigvals, eigvecs = eigh(Sw)\n",
        "        V = eigvecs[:, :model.encoder[-1].out_features]\n",
        "\n",
        "        V = torch.tensor(V, dtype=torch.float32)\n",
        "        optimizer = optim.Adam(model.parameters(), lr=1e-3)\n",
        "        lambda_reg = 0.1\n",
        "\n",
        "        for epoch in range(30):\n",
        "            model.train()\n",
        "            optimizer.zero_grad()\n",
        "            out, H = model(X)\n",
        "            projection = H @ V @ V.T\n",
        "            loss_recon = nn.MSELoss()(out, X)\n",
        "            loss_constraint = torch.norm(H - projection)\n",
        "            total_loss = loss_recon + lambda_reg * loss_constraint\n",
        "            total_loss.backward()\n",
        "            optimizer.step()\n",
        "\n",
        "        print(f\"Iteration {it+1}, Loss: {total_loss.item():.4f}\")\n",
        "\n",
        "    return labels, H_np\n"
      ]
    },
    {
      "cell_type": "code",
      "execution_count": null,
      "metadata": {
        "colab": {
          "base_uri": "https://localhost:8080/"
        },
        "id": "fp2ABTb0sP57",
        "outputId": "1c2c26c6-b74d-4b1b-def2-5886683eede0"
      },
      "outputs": [
        {
          "name": "stdout",
          "output_type": "stream",
          "text": [
            "Epoch 10, Loss: 0.2798\n",
            "Epoch 20, Loss: 0.2768\n",
            "Epoch 30, Loss: 0.2753\n",
            "Epoch 40, Loss: 0.2742\n",
            "Epoch 50, Loss: 0.2731\n",
            "Iteration 1, Loss: 0.2712\n",
            "Iteration 2, Loss: 0.2696\n",
            "Iteration 3, Loss: 0.2679\n",
            "Iteration 4, Loss: 0.2662\n",
            "Iteration 5, Loss: 0.2649\n",
            "Iteration 6, Loss: 0.2636\n",
            "Iteration 7, Loss: 0.2623\n",
            "Iteration 8, Loss: 0.2611\n",
            "Iteration 9, Loss: 0.2606\n",
            "Iteration 10, Loss: 0.2595\n"
          ]
        }
      ],
      "source": [
        "cluster_labels, H_np = DEKM(model, X_tensor, k=10)\n"
      ]
    },
    {
      "cell_type": "markdown",
      "metadata": {
        "id": "gDqRBFmIs-pY"
      },
      "source": [
        "**Chỉ số đánh giá**"
      ]
    },
    {
      "cell_type": "code",
      "execution_count": null,
      "metadata": {
        "colab": {
          "base_uri": "https://localhost:8080/"
        },
        "id": "eu9mK-z8sSeo",
        "outputId": "86da2a1b-4a39-45b2-dd6a-a74cf2378783"
      },
      "outputs": [
        {
          "name": "stdout",
          "output_type": "stream",
          "text": [
            "Silhouette Score: 0.2427\n"
          ]
        }
      ],
      "source": [
        "from sklearn.metrics import silhouette_score\n",
        "\n",
        "score = silhouette_score(H_np, cluster_labels)\n",
        "print(f\"Silhouette Score: {score:.4f}\")\n"
      ]
    },
    {
      "cell_type": "code",
      "execution_count": null,
      "metadata": {
        "colab": {
          "base_uri": "https://localhost:8080/"
        },
        "id": "OXOytyECtVSf",
        "outputId": "040797e0-dbfb-40fb-cdeb-1e98b8acde8e"
      },
      "outputs": [
        {
          "name": "stdout",
          "output_type": "stream",
          "text": [
            "Calinski-Harabasz Index: 1859.9108\n"
          ]
        }
      ],
      "source": [
        "from sklearn.metrics import calinski_harabasz_score\n",
        "\n",
        "ch_score = calinski_harabasz_score(H_np, cluster_labels)\n",
        "print(f\"Calinski-Harabasz Index: {ch_score:.4f}\")\n"
      ]
    },
    {
      "cell_type": "code",
      "execution_count": null,
      "metadata": {
        "colab": {
          "base_uri": "https://localhost:8080/"
        },
        "id": "sG4P6MA6taDW",
        "outputId": "9d251a8e-ddfc-4e48-d955-278e642a904e"
      },
      "outputs": [
        {
          "name": "stdout",
          "output_type": "stream",
          "text": [
            "Davies-Bouldin Index: 1.5304\n"
          ]
        }
      ],
      "source": [
        "from sklearn.metrics import davies_bouldin_score\n",
        "\n",
        "db_score = davies_bouldin_score(H_np, cluster_labels)\n",
        "print(f\"Davies-Bouldin Index: {db_score:.4f}\")\n"
      ]
    }
  ],
  "metadata": {
    "colab": {
      "provenance": [],
      "toc_visible": true
    },
    "kernelspec": {
      "display_name": "Python 3",
      "name": "python3"
    },
    "language_info": {
      "name": "python"
    }
  },
  "nbformat": 4,
  "nbformat_minor": 0
}
