{
 "cells": [
  {
   "cell_type": "code",
   "execution_count": 2,
   "metadata": {},
   "outputs": [
    {
     "name": "stderr",
     "output_type": "stream",
     "text": [
      "/home/namanh/.local/lib/python3.10/site-packages/matplotlib/projections/__init__.py:63: UserWarning: Unable to import Axes3D. This may be due to multiple versions of Matplotlib being installed (e.g. as a system package and as a pip package). As a result, the 3D projection is not available.\n",
      "  warnings.warn(\"Unable to import Axes3D. This may be due to multiple versions of \"\n"
     ]
    }
   ],
   "source": [
    "import pandas as pd\n",
    "import numpy as np\n",
    "from sklearn.preprocessing import StandardScaler\n",
    "from sklearn.decomposition import PCA\n",
    "import skfuzzy as fuzz\n",
    "import matplotlib.pyplot as plt"
   ]
  },
  {
   "cell_type": "code",
   "execution_count": 3,
   "metadata": {},
   "outputs": [],
   "source": [
    "# Đọc dữ liệu\n",
    "orders = pd.read_csv('List of Orders.csv')\n",
    "order_details = pd.read_csv('Order Details.csv')"
   ]
  },
  {
   "cell_type": "code",
   "execution_count": 6,
   "metadata": {},
   "outputs": [],
   "source": [
    "orders.dropna(inplace=True)"
   ]
  },
  {
   "cell_type": "code",
   "execution_count": 5,
   "metadata": {},
   "outputs": [],
   "source": [
    "order_details.dropna(inplace=True)"
   ]
  },
  {
   "cell_type": "code",
   "execution_count": 8,
   "metadata": {},
   "outputs": [
    {
     "data": {
      "text/plain": [
       "Index(['Order ID', 'Order Date', 'CustomerName', 'State', 'City'], dtype='object')"
      ]
     },
     "execution_count": 8,
     "metadata": {},
     "output_type": "execute_result"
    }
   ],
   "source": [
    "orders.columns"
   ]
  },
  {
   "cell_type": "code",
   "execution_count": 9,
   "metadata": {},
   "outputs": [
    {
     "data": {
      "text/plain": [
       "Index(['Order ID', 'Amount', 'Profit', 'Quantity', 'Category', 'Sub-Category'], dtype='object')"
      ]
     },
     "execution_count": 9,
     "metadata": {},
     "output_type": "execute_result"
    }
   ],
   "source": [
    "order_details.columns"
   ]
  },
  {
   "cell_type": "code",
   "execution_count": 11,
   "metadata": {},
   "outputs": [],
   "source": [
    "# Merge 2 bảng theo Order ID\n",
    "df = pd.merge(order_details, orders, on='Order ID')"
   ]
  },
  {
   "cell_type": "code",
   "execution_count": 12,
   "metadata": {},
   "outputs": [
    {
     "data": {
      "text/html": [
       "<div>\n",
       "<style scoped>\n",
       "    .dataframe tbody tr th:only-of-type {\n",
       "        vertical-align: middle;\n",
       "    }\n",
       "\n",
       "    .dataframe tbody tr th {\n",
       "        vertical-align: top;\n",
       "    }\n",
       "\n",
       "    .dataframe thead th {\n",
       "        text-align: right;\n",
       "    }\n",
       "</style>\n",
       "<table border=\"1\" class=\"dataframe\">\n",
       "  <thead>\n",
       "    <tr style=\"text-align: right;\">\n",
       "      <th></th>\n",
       "      <th>Order ID</th>\n",
       "      <th>Amount</th>\n",
       "      <th>Profit</th>\n",
       "      <th>Quantity</th>\n",
       "      <th>Category</th>\n",
       "      <th>Sub-Category</th>\n",
       "      <th>Order Date</th>\n",
       "      <th>CustomerName</th>\n",
       "      <th>State</th>\n",
       "      <th>City</th>\n",
       "    </tr>\n",
       "  </thead>\n",
       "  <tbody>\n",
       "    <tr>\n",
       "      <th>0</th>\n",
       "      <td>B-25601</td>\n",
       "      <td>1275.0</td>\n",
       "      <td>-1148.0</td>\n",
       "      <td>7</td>\n",
       "      <td>Furniture</td>\n",
       "      <td>Bookcases</td>\n",
       "      <td>01-04-2018</td>\n",
       "      <td>Bharat</td>\n",
       "      <td>Gujarat</td>\n",
       "      <td>Ahmedabad</td>\n",
       "    </tr>\n",
       "    <tr>\n",
       "      <th>1</th>\n",
       "      <td>B-25601</td>\n",
       "      <td>66.0</td>\n",
       "      <td>-12.0</td>\n",
       "      <td>5</td>\n",
       "      <td>Clothing</td>\n",
       "      <td>Stole</td>\n",
       "      <td>01-04-2018</td>\n",
       "      <td>Bharat</td>\n",
       "      <td>Gujarat</td>\n",
       "      <td>Ahmedabad</td>\n",
       "    </tr>\n",
       "    <tr>\n",
       "      <th>2</th>\n",
       "      <td>B-25601</td>\n",
       "      <td>8.0</td>\n",
       "      <td>-2.0</td>\n",
       "      <td>3</td>\n",
       "      <td>Clothing</td>\n",
       "      <td>Hankerchief</td>\n",
       "      <td>01-04-2018</td>\n",
       "      <td>Bharat</td>\n",
       "      <td>Gujarat</td>\n",
       "      <td>Ahmedabad</td>\n",
       "    </tr>\n",
       "    <tr>\n",
       "      <th>3</th>\n",
       "      <td>B-25601</td>\n",
       "      <td>80.0</td>\n",
       "      <td>-56.0</td>\n",
       "      <td>4</td>\n",
       "      <td>Electronics</td>\n",
       "      <td>Electronic Games</td>\n",
       "      <td>01-04-2018</td>\n",
       "      <td>Bharat</td>\n",
       "      <td>Gujarat</td>\n",
       "      <td>Ahmedabad</td>\n",
       "    </tr>\n",
       "    <tr>\n",
       "      <th>4</th>\n",
       "      <td>B-25602</td>\n",
       "      <td>168.0</td>\n",
       "      <td>-111.0</td>\n",
       "      <td>2</td>\n",
       "      <td>Electronics</td>\n",
       "      <td>Phones</td>\n",
       "      <td>01-04-2018</td>\n",
       "      <td>Pearl</td>\n",
       "      <td>Maharashtra</td>\n",
       "      <td>Pune</td>\n",
       "    </tr>\n",
       "  </tbody>\n",
       "</table>\n",
       "</div>"
      ],
      "text/plain": [
       "  Order ID  Amount  Profit  Quantity     Category      Sub-Category  \\\n",
       "0  B-25601  1275.0 -1148.0         7    Furniture         Bookcases   \n",
       "1  B-25601    66.0   -12.0         5     Clothing             Stole   \n",
       "2  B-25601     8.0    -2.0         3     Clothing       Hankerchief   \n",
       "3  B-25601    80.0   -56.0         4  Electronics  Electronic Games   \n",
       "4  B-25602   168.0  -111.0         2  Electronics            Phones   \n",
       "\n",
       "   Order Date CustomerName        State       City  \n",
       "0  01-04-2018       Bharat      Gujarat  Ahmedabad  \n",
       "1  01-04-2018       Bharat      Gujarat  Ahmedabad  \n",
       "2  01-04-2018       Bharat      Gujarat  Ahmedabad  \n",
       "3  01-04-2018       Bharat      Gujarat  Ahmedabad  \n",
       "4  01-04-2018        Pearl  Maharashtra       Pune  "
      ]
     },
     "execution_count": 12,
     "metadata": {},
     "output_type": "execute_result"
    }
   ],
   "source": [
    "df.head(5)"
   ]
  },
  {
   "cell_type": "code",
   "execution_count": 13,
   "metadata": {},
   "outputs": [],
   "source": [
    "# Chọn các đặc trưng số\n",
    "features = ['Amount', 'Profit', 'Quantity']\n",
    "data = df[features].copy()\n",
    "\n",
    "# Chuẩn hóa dữ liệu\n",
    "from sklearn.preprocessing import StandardScaler\n",
    "\n",
    "scaler = StandardScaler()\n",
    "X_scaled = scaler.fit_transform(data)"
   ]
  },
  {
   "cell_type": "code",
   "execution_count": null,
   "metadata": {},
   "outputs": [
    {
     "data": {
      "image/png": "[encoded data removed]",
      "text/plain": [
       "<Figure size 640x480 with 1 Axes>"
      ]
     },
     "metadata": {},
     "output_type": "display_data"
    }
   ],
   "source": [
    "cntr, u, u0, d, jm, p, fpc = fuzz.cluster.cmeans(X_scaled.T, c=3, m=2, error=0.005, maxiter=1000, init=None)\n",
    "\n",
    "# Gán nhãn cho mỗi điểm dữ liệu\n",
    "cluster_membership = np.argmax(u, axis=0)\n",
    "\n",
    "# Vẽ kết quả phân cụm\n",
    "plt.figure()\n",
    "for j in range(3):\n",
    "    plt.scatter(X_scaled[cluster_membership == j, 0],\n",
    "                X_scaled[cluster_membership == j, 1], label=f'Cluster {j}')\n",
    "plt.legend()\n",
    "plt.title('Kết quả phân cụm bằng FCM')\n",
    "plt.show()"
   ]
  }
 ],
 "metadata": {
  "kernelspec": {
   "display_name": "Python 3",
   "language": "python",
   "name": "python3"
  },
  "language_info": {
   "codemirror_mode": {
    "name": "ipython",
    "version": 3
   },
   "file_extension": ".py",
   "mimetype": "text/x-python",
   "name": "python",
   "nbconvert_exporter": "python",
   "pygments_lexer": "ipython3",
   "version": "3.10.12"
  }
 },
 "nbformat": 4,
 "nbformat_minor": 2
}
